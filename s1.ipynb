{
 "cells": [
  {
   "cell_type": "markdown",
   "metadata": {},
   "source": [
    "1.1 Соедините два словаря в один\n",
    "1.2 Напишите функцию, которая на вход принимает два\n",
    "словаря и возвращает один объединенный словарь\n",
    "Используйте аннотирование типов\n"
   ]
  },
  {
   "cell_type": "code",
   "execution_count": 1,
   "metadata": {},
   "outputs": [],
   "source": [
    "dict1 = {'One': 1, 'Two': 2, 'Three': 3}\n",
    "dict2 = {'Four': 4, 'Five': 5, 'Six': 6}"
   ]
  },
  {
   "cell_type": "markdown",
   "metadata": {},
   "source": [
    "## TASK 1\n",
    "### 1.1"
   ]
  },
  {
   "cell_type": "code",
   "execution_count": 2,
   "metadata": {},
   "outputs": [
    {
     "name": "stdout",
     "output_type": "stream",
     "text": [
      "{'One': 1, 'Two': 2, 'Three': 3, 'Four': 4, 'Five': 5, 'Six': 6}\n"
     ]
    }
   ],
   "source": [
    "res = {}\n",
    "res.update(dict1)\n",
    "res.update(dict2)\n",
    "print(res)"
   ]
  },
  {
   "cell_type": "markdown",
   "metadata": {},
   "source": [
    "### 1.2"
   ]
  },
  {
   "cell_type": "code",
   "execution_count": 3,
   "metadata": {},
   "outputs": [
    {
     "data": {
      "text/plain": [
       "{'One': 1, 'Two': 2, 'Three': 3, 'Four': 4, 'Five': 5, 'Six': 6}"
      ]
     },
     "execution_count": 3,
     "metadata": {},
     "output_type": "execute_result"
    }
   ],
   "source": [
    "def merge(dict1: dict, dict2: dict) -> dict:\n",
    "    res = {}\n",
    "    res.update(dict1)\n",
    "    res.update(dict2)\n",
    "    return(res)\n",
    "merge (dict1, dict2)"
   ]
  },
  {
   "cell_type": "markdown",
   "metadata": {},
   "source": [
    "Напишите функцию, которая из двух списков, делает один словарь, где\n",
    "элементы из первого списка - ключи, а элементы из второго списка -\n",
    "значения\n",
    "Используйте аннотирование типов\n",
    "2.1 Используя цикл for\n",
    "2.2 Используя dict comprehensions"
   ]
  },
  {
   "cell_type": "code",
   "execution_count": 4,
   "metadata": {},
   "outputs": [],
   "source": [
    "keys = ['One', 'Two', 'Three']\n",
    "values = [1, 2, 3]"
   ]
  },
  {
   "cell_type": "code",
   "execution_count": 5,
   "metadata": {},
   "outputs": [
    {
     "data": {
      "text/plain": [
       "{'One': 1, 'Two': 2, 'Three': 3}"
      ]
     },
     "execution_count": 5,
     "metadata": {},
     "output_type": "execute_result"
    }
   ],
   "source": [
    "def gen_dict(keys:list, values:list)->dict:\n",
    "    res = dict()\n",
    "    for i in range (len(keys)):\n",
    "        res[keys[i]] = values[i]\n",
    "    return res\n",
    "\n",
    "gen_dict(keys, values)"
   ]
  },
  {
   "cell_type": "code",
   "execution_count": 8,
   "metadata": {},
   "outputs": [
    {
     "data": {
      "text/plain": [
       "{'One': 1, 'Two': 2, 'Three': 3}"
      ]
     },
     "execution_count": 8,
     "metadata": {},
     "output_type": "execute_result"
    }
   ],
   "source": [
    "dict(zip(keys, values))"
   ]
  },
  {
   "cell_type": "markdown",
   "metadata": {},
   "source": [
    "3.1 Напишите функцию с циклом for\n",
    "Функция на вход принимает:\n",
    "исходный словарь\n",
    "ключи, которые нужно извлечь (аргумент по\n",
    "умолчанию)\n",
    "На выходе словарь с нужными ключами\n",
    "Используйте аннотирование типов\n",
    "3.2 Используя dict comprehensions"
   ]
  },
  {
   "cell_type": "code",
   "execution_count": 9,
   "metadata": {},
   "outputs": [],
   "source": [
    "client_dict = {\n",
    "'name': 'John',\n",
    "'age': 50,\n",
    "'salary': 5000,\n",
    "'city': 'Moscow'\n",
    "}"
   ]
  },
  {
   "cell_type": "code",
   "execution_count": 10,
   "metadata": {},
   "outputs": [
    {
     "name": "stdout",
     "output_type": "stream",
     "text": [
      "name\n",
      "age\n",
      "salary\n",
      "city\n"
     ]
    }
   ],
   "source": [
    "def get_key(client_dict,keys: list =[\"name\",\"age\"]) ->dict:\n",
    "    res =dict()\n",
    "    for k in client_dict:\n",
    "        print(k)\n",
    "\n",
    "get_key(client_dict)"
   ]
  }
 ],
 "metadata": {
  "kernelspec": {
   "display_name": "Python 3",
   "language": "python",
   "name": "python3"
  },
  "language_info": {
   "codemirror_mode": {
    "name": "ipython",
    "version": 3
   },
   "file_extension": ".py",
   "mimetype": "text/x-python",
   "name": "python",
   "nbconvert_exporter": "python",
   "pygments_lexer": "ipython3",
   "version": "3.10.12"
  }
 },
 "nbformat": 4,
 "nbformat_minor": 2
}
